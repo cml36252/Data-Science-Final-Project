{
 "cells": [
  {
   "cell_type": "markdown",
   "metadata": {},
   "source": [
    "# March Madness "
   ]
  },
  {
   "cell_type": "markdown",
   "metadata": {},
   "source": [
    "## Goal"
   ]
  },
  {
   "cell_type": "markdown",
   "metadata": {},
   "source": [
    "Our original goal was just to predict what team would win the tournament, however I think that our goal should be to predict every game of the tournament, which inherently includes the winner. Essentially creating a model with the hopes of creating a \"perfect bracket\"."
   ]
  },
  {
   "cell_type": "markdown",
   "metadata": {},
   "source": [
    "## Evaluation"
   ]
  },
  {
   "cell_type": "markdown",
   "metadata": {},
   "source": [
    "I think we can evaluate our model based on how well it performs against this year's bracket, as well as previous years' brackets. I propose we use a weighted scale like the tournament challenge does, where for each R64 game correctly predicted, the model gains 10 points, for each R32 game correctly predicted, the model gets 20 points, for each sweet 16 game correctly predicted, the model gains 40 points, and so on. This would evaluate the model like it is a human that is making the picks for each bracket."
   ]
  },
  {
   "cell_type": "markdown",
   "metadata": {},
   "source": [
    "## Data "
   ]
  },
  {
   "cell_type": "markdown",
   "metadata": {},
   "source": [
    "There is a ton of data provided in this dataset, most of which will likely not be useful for our goal.\n"
   ]
  },
  {
   "cell_type": "markdown",
   "metadata": {},
   "source": [
    "My initial thoughts on what data we should use would be all of the tournament and regular season results, as well as box scores from all of these games. I think we can use some logistic regression models as well as decision trees and SVM, however I worry about the decision trees being overfit considering how much data there is. The data goes back all the way to the 1980s which i don't think will be very indicative of modern basketball, so we might want to try data that has all of the games as well as just from 2000 forward. "
   ]
  },
  {
   "cell_type": "markdown",
   "metadata": {},
   "source": []
  }
 ],
 "metadata": {
  "language_info": {
   "name": "python"
  }
 },
 "nbformat": 4,
 "nbformat_minor": 2
}
